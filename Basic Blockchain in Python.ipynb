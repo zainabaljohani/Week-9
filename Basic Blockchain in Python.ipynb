{
 "cells": [
  {
   "cell_type": "code",
   "execution_count": 12,
   "id": "8bdc6886-958b-41fc-9d67-10de7914e55b",
   "metadata": {},
   "outputs": [],
   "source": [
    "import time\n",
    "\n",
    "from hashlib import sha256\n",
    "import json\n",
    "\n",
    "class Block:\n",
    "  \n",
    "    def __init__(self, index, transactions, timestamp, previous_hash, nonce=0):\n",
    "    # Todo for students, implement the initialization of the properties for this class.\n",
    "        self.index = index\n",
    "        self.transactions = transactions\n",
    "        self.timestamp = timestamp\n",
    "        self.previous_hash = previous_hash\n",
    "        self.nonce = nonce\n",
    "        #print(\"good\")\n",
    "    def compute_hash(self):\n",
    "        block_string = json.dumps(self.__dict__, sort_keys=True)\n",
    "         #todo for students: implement a sha256 solution to return the hex digest of the block_string, and return it. \n",
    "        return sha256(block_string.encode()).hexdigest()\n",
    "\n",
    "class Blockchain(Block):\n",
    "\n",
    "    def __init__(self):\n",
    "        # student todo: write the code for unconfirmed_transactions property.\n",
    "        self.unconfirmed_transactions = []\n",
    "        # student todo: write the code for chain property.\n",
    "        self.chain = []\n",
    "        # student todo: add and initialize the difficulty property. \n",
    "        self.difficulty = 2\n",
    "        self.create_genesis_block()\n",
    " \n",
    "    def create_genesis_block(self):\n",
    "        genesis_block = Block(0, [], time.time(), \"0\")\n",
    "        genesis_block.hash = genesis_block.compute_hash()\n",
    "        self.chain.append(genesis_block)\n",
    "       \n",
    "\n",
    "\n",
    "    # todo define get_last_block(self) -> Block, hint: consider an index to the last element in your chain property.\n",
    "    def last_block(self):\n",
    "        return self.chain[-1]\n",
    "        \n",
    "    \n",
    "    def proof_of_work(self, block):\n",
    "        # computed_hash = how do we get the hash from a Block object?\n",
    "        computed_hash = block.compute_hash()\n",
    "        while not computed_hash.startswith('0' * self.difficulty):\n",
    "            block.nonce += 1\n",
    "            computed_hash = block.compute_hash()\n",
    "        # Don't forget to return the hash. \n",
    "        return computed_hash\n",
    "\n",
    "    # todo define is_valid_proof(self, block:Block, block_hash:str) -> bool\n",
    "    def is_valid_proof(self, block, block_hash):\n",
    "        # hint, we want to return true if block_hash.startswith('0' * Blockchain.difficulty)\n",
    "        # AND if block_hash is in fact the hash of our block (maybe use block.compute_hash())\n",
    "        return (block_hash.startswith('0' * self.difficulty) and\n",
    "                block_hash == block.compute_hash())\n",
    "    \n",
    "    # todo define add_block(self, block:Block, proof:str) -> bool\n",
    "    # hints, we probably want to get the previous hash from get_last_block()\n",
    "    def add_block(self, block, proof):\n",
    "        previous_hash = self.chain[-1]\n",
    "        previous_hash= previous_hash.hash\n",
    "        # Check if the previous hash matches the previous hash in the block argument. \n",
    "        if previous_hash != block.previous_hash:\n",
    "            return False\n",
    "        # Make use of is_valid_proof for block and proof to check if someone is trying to do something sneaky.\n",
    "        #return False early and return control the calling function if the block is not valid.\n",
    "        if not self.is_valid_proof(block, proof):\n",
    "            return False\n",
    "        block.hash = proof\n",
    "        self.chain.append(block)#So let's add the hash to our block, append it to the chain,and return True.\n",
    "        return True\n",
    "\n",
    "    # todo, define add_new_transaction(self, transaction:dict) -> None\n",
    "    # Hint how do we append to a list? How do we do this for a property of our object (self). Ease one line function. \n",
    "    def add_new_transaction(self, transaction):\n",
    "        self.unconfirmed_transactions.append(transaction)# append to a list\n",
    "     \n",
    "      \n",
    "    def mine(self):\n",
    "        if not self.unconfirmed_transactions:\n",
    "            return False\n",
    "        # consider retrieving the last block to a local variable make life easy. \n",
    "        last_block = self.chain[-1]\n",
    "        self.difficulty = 2\n",
    "        # Let's make sure we use our Block constructor to create a new block with all the transactions we want to mine \n",
    "        new_block = Block(index=last_block.index + 1,\n",
    "                          transactions=self.unconfirmed_transactions,\n",
    "                          timestamp=time.time(),\n",
    "                          previous_hash=last_block.hash)\n",
    "        # Finally, let's be sure to use our handy proof_of_work function, add_block function, and to remember to reset our\n",
    "        # unconfirmed_transactions (our mem-pool), before returning our new block index;\n",
    "        proof = self.proof_of_work(new_block)\n",
    "        self.add_block(new_block, proof)\n",
    "        self.unconfirmed_transactions = []\n",
    "        return new_block.index\n",
    "    \n"
   ]
  },
  {
   "cell_type": "code",
   "execution_count": 14,
   "id": "df1a0468-8971-4c9a-a9b3-1cadd47dcaf2",
   "metadata": {},
   "outputs": [
    {
     "data": {
      "text/plain": [
       "1"
      ]
     },
     "execution_count": 14,
     "metadata": {},
     "output_type": "execute_result"
    }
   ],
   "source": [
    "blockchain=Blockchain()\n",
    "#b0=blockchain.create_genesis_block()\n",
    "t1=blockchain.add_new_transaction(['Satoshi','Mike','5 BTC'])\n",
    "t2=blockchain.add_new_transaction(['Mike','Satoshi','1 BTC'])\n",
    "t3=blockchain.add_new_transaction(['Satoshi','Hal Finney','5 BTC'])\n",
    "blockchain.mine()"
   ]
  },
  {
   "cell_type": "code",
   "execution_count": 11,
   "id": "68b5262b-c90d-42b5-96cd-de6d89424cdc",
   "metadata": {},
   "outputs": [
    {
     "data": {
      "text/plain": [
       "2"
      ]
     },
     "execution_count": 11,
     "metadata": {},
     "output_type": "execute_result"
    }
   ],
   "source": [
    "t4=blockchain.add_new_transaction(['Mona','Eyad','10 BTC'])\n",
    "t5=blockchain.add_new_transaction(['Eyad','Satoshi','1 BTC'])\n",
    "t6=blockchain.add_new_transaction(['Satoshi','Eyad','20 BTC'])\n",
    "blockchain.mine()"
   ]
  },
  {
   "cell_type": "code",
   "execution_count": 16,
   "id": "fae81bc4-b570-47ad-87a6-07261c6f34ee",
   "metadata": {},
   "outputs": [
    {
     "data": {
      "text/plain": [
       "3"
      ]
     },
     "execution_count": 16,
     "metadata": {},
     "output_type": "execute_result"
    }
   ],
   "source": [
    "t7=blockchain.add_new_transaction(['Mona','Eyad','10 BTC'])\n",
    "t8=blockchain.add_new_transaction(['shehanh','Satoshi','1 BTC'])\n",
    "t9=blockchain.add_new_transaction(['Satoshi','Eyad','20 BTC'])\n",
    "blockchain.mine()"
   ]
  },
  {
   "cell_type": "code",
   "execution_count": null,
   "id": "7c79ad96-739c-4093-b59d-f6a391801c05",
   "metadata": {},
   "outputs": [],
   "source": []
  },
  {
   "cell_type": "code",
   "execution_count": null,
   "id": "6a4cedd7-33da-47fa-8675-5682cafacfc3",
   "metadata": {},
   "outputs": [],
   "source": []
  }
 ],
 "metadata": {
  "kernelspec": {
   "display_name": "Python 3 (ipykernel)",
   "language": "python",
   "name": "python3"
  },
  "language_info": {
   "codemirror_mode": {
    "name": "ipython",
    "version": 3
   },
   "file_extension": ".py",
   "mimetype": "text/x-python",
   "name": "python",
   "nbconvert_exporter": "python",
   "pygments_lexer": "ipython3",
   "version": "3.8.12"
  }
 },
 "nbformat": 4,
 "nbformat_minor": 5
}
